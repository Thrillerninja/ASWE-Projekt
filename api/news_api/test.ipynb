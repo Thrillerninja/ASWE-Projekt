{
 "cells": [
  {
   "cell_type": "markdown",
   "metadata": {},
   "source": [
    "# TESTING"
   ]
  },
  {
   "cell_type": "code",
   "execution_count": null,
   "metadata": {},
   "outputs": [],
   "source": [
    "import os\n",
    "import json\n",
    "from newsapi.newsapi_client import NewsApiClient\n",
    "import requests\n",
    "import re\n",
    "from datetime import datetime, timedelta, date\n",
    "from bs4 import BeautifulSoup\n",
    "import html\n"
   ]
  },
  {
   "cell_type": "code",
   "execution_count": null,
   "metadata": {},
   "outputs": [],
   "source": [
    "client = NewsApiClient('ee9ebbc8037b49a58370ee1446c8f8db')\n",
    "response = client.get_top_headlines(language='de', sources='die-zeit')\n",
    "if response['status'] == 'ok':\n",
    "    articles = response['articles']\n",
    "\n",
    "    print(json.dumps(articles[0], indent=2))\n",
    "\n",
    "\n",
    "    article_url = articles[1]['url']\n",
    "    print(\"article_url:\", article_url)\n"
   ]
  },
  {
   "cell_type": "code",
   "execution_count": null,
   "metadata": {},
   "outputs": [],
   "source": [
    "# get the article from the url\n",
    "def get_complete_article(url:str):\n",
    "    article_response = requests.get(url)\n",
    "    if article_response.status_code != 200:\n",
    "        print(f\"Failed to retrieve article. Status code: {article_response.status_code}\")\n",
    "        return\n",
    "    # print(article_response.text)\n",
    "    for line in article_response.text.split('\\n'):\n",
    "        linestart = \"\\\"articleBody\\\": \"\n",
    "        if line.strip().startswith(linestart):\n",
    "            line = line.strip(linestart).split(\"©\")[0]  # ignore dpa and other sources in string\n",
    "            return html.unescape(line)  # &#34; -> \"\n",
    "    print(\"Content not found in article\")\n",
    "    return \n",
    "\n",
    "    \n",
    "print(\"Article 1:\")\n",
    "print(get_complete_article(\"https://www.zeit.de/news/2024-12/03/schuesse-in-berlin-gesundbrunnen-ein-mann-schwer-verletzt\"))\n",
    "print(\"\\n\")\n",
    "\n",
    "print(\"Article 2:\")\n",
    "print(get_complete_article(\"https://www.zeit.de/news/2024-12/03/sperren-beschaedigt-weihnachtmarkt-bleibt-geschlossen\"))"
   ]
  },
  {
   "cell_type": "markdown",
   "metadata": {},
   "source": [
    "# Klasse, die so eig übernommen werden kann"
   ]
  },
  {
   "cell_type": "code",
   "execution_count": 40,
   "metadata": {},
   "outputs": [
    {
     "name": "stdout",
     "output_type": "stream",
     "text": [
      "First 2 articles: \n",
      "[\n",
      "  {\n",
      "    \"source\": {\n",
      "      \"id\": \"die-zeit\",\n",
      "      \"name\": \"Die Zeit\"\n",
      "    },\n",
      "    \"author\": \"Katharina Schuler\",\n",
      "    \"title\": \"Harald Christ: \\\"Der ganze Ton hat mich maximal irritiert\\\"\",\n",
      "    \"description\": \"Ex-FDP-Schatzmeister Harald Christ hat die Partei wegen der \\\"D-Day\\\"-Aff\\u00e4re verlassen. Die Liberalen m\\u00fcssten nun die richtigen Lehren ziehen, fordert er.\",\n",
      "    \"url\": \"https://www.zeit.de/politik/deutschland/2024-12/harald-christ-fdp-austritt-d-day-affaere\",\n",
      "    \"urlToImage\": \"https://img.zeit.de/politik/deutschland/2024-12/christ-lindner/wide__1300x731\",\n",
      "    \"publishedAt\": \"2024-12-03T16:17:39+00:00\",\n",
      "    \"content\": \"Harald Christ hat beruflich und politisch einiges hinter sich. Der gelernte Industriekaufmann war jahrzehntelang in f\\u00fchrender Funktion f\\u00fcr zahlreiche Finanzunternehmen t\\u00e4tig und sa\\u00df im Aufsichtsrat m\\u2026 [+453 chars]\"\n",
      "  },\n",
      "  {\n",
      "    \"source\": {\n",
      "      \"id\": \"die-zeit\",\n",
      "      \"name\": \"Die Zeit\"\n",
      "    },\n",
      "    \"author\": \"dpa\",\n",
      "    \"title\": \"Notf\\u00e4lle: Klopfger\\u00e4usche - Vermutlich geschleuste M\\u00e4nner befreit\",\n",
      "    \"description\": \"Hier finden Sie Informationen zu dem Thema \\u201eNotf\\u00e4lle\\u201c. Lesen Sie jetzt \\u201eKlopfger\\u00e4usche - Vermutlich geschleuste M\\u00e4nner befreit\\u201c.\",\n",
      "    \"url\": \"https://www.zeit.de/news/2024-12/03/klopfgeraeusche-vermutlich-geschleuste-maenner-befreit\",\n",
      "    \"urlToImage\": \"https://img.zeit.de/news/2024-12/03/klopfgeraeusche-vermutlich-geschleuste-maenner-befreit-image-group/wide__1300x731\",\n",
      "    \"publishedAt\": \"2024-12-03T16:15:25+00:00\",\n",
      "    \"content\": \"Kurz vor der deutschen Grenze bei Aachen, noch auf belgischem Gebiet, hat die Bundespolizei zwei mutma\\u00dflich geschleuste junge M\\u00e4nner aus einem mit Orangen beladenen Transporter befreit. Der belarussi\\u2026 [+568 chars]\"\n",
      "  }\n",
      "]\n",
      "Article 1:\n",
      "Harald Christ war jahrzehntelang in führender Funktion für zahlreiche Finanzunternehmen tätig und saß im Aufsichtsrat mehrerer großer Konzerne. Außerdem gründete er sein eigenes Beratungsunternehmen, die Christ&Company Consulting GmbH. Als Vorsitzender seiner eigenen Stiftung setzt sich der 52-Jährige für Demokratie und Vielfalt ein. 31 Jahre lang war d er gelernte Industriekaufmann Mitglied der SPD, bevor er 2020 der FDP beitrat. ZEIT ONLINE: Herr Christ, Sie waren bis 2022 Schatzmeister der FDP, jetzt Sie sind aus der Partei ausgetreten. Was war der Punkt, an dem Sie gemerkt haben, es geht nicht mehr? Harald Christ: Grundsätzlich hat mich der Gedanke, aus der FDP auszutreten, seit Anfang des Jahres beschäftigt. Das hängt mit meinem Engagement für meine Stiftung zusammen. Ich habe ein breites und tiefes Netzwerk in alle Parteien der demokratischen Mitte, von den Grünen über die SPD, der FDP bis hin zu CDU und CSU. Mein Ziel ist es, die Parteiendemokratie als solche zu stärken. Daher spende ich auch mindestens 250.000 Euro an diese demokratischen Parteien für den Wahlkampf. Dazu passt die Mitgliedschaft in einer bestimmten Partei schlecht. Aber zugegeben: Die Entwicklungen der letzten Wochen haben meinen Entschluss beschleunigt. ZEIT ONLINE: Inwiefern? Christ: Ich habe seit Monaten mitbekommen, dass die FDP in der Ampelkoalition nicht mehr ernsthaft an konstruktiven Lösungen interessiert war, sondern dass sie einen Weg aus der Koalition gesucht hat. Ich finde jedoch: Wenn man in einer Regierung ist und sich das Land zugleich in einer schwierigen Lage befindet, dann muss man zu seiner Verantwortung stehen und gucken, dass man was Vernünftiges – auch an Kompromissen – hinbekommt. Als dann noch das \"D-Day\"-Papier kam, war klar: Jetzt ist Schluss. ZEIT ONLINE: Was genau hat Sie an dem Papier gestört? Christ: Die ganze Tonalität, die vermeintliche Strategie, die dahinter liegt. Meine Kritik ist nicht, dass man sich auf einen Koalitionsbruch vorbereitet, auch wenn ich ihn für falsch gehalten habe. Sondern die Form, wie das abgelaufen ist. Das ist nicht meine Art, wie ich Politik verstehe und was ich im Übrigen auch von verantwortungsvollen Politikerinnen und Politikern erwarte. ZEIT ONLINE: Vielen stößt die martialische Sprache in dem Papier auf. Sie haben ja selbst zwei Jahre in der Bundesgeschäftsstelle der FDP gearbeitet. War dieser Ton da üblich? Christ: Nein, bis zum Ende meiner Amtszeit 2022 nicht. Der ganze Ton hat mich maximal irritiert. Es macht mich fassungslos, dass man dieses Vokabular dann auch noch in einem politischen Strategiepapier verwendet. Die Instrumentalisierung von historischen Ereignissen hat da nichts verloren. Da ist es auch nicht relevant, ob das nun ein internes Papier war oder nicht. Man sollte mit solchen Formulierungen zurückhaltender sein. ZEIT ONLINE: Woher kommt diese Tonart? Christ: Ich weiß es nicht. Jedenfalls glaube ich nicht, dass dieses Vokabular Christian Lindner zuzuschreiben ist. ZEIT ONLINE: Es wirkt doch scheinheilig, wenn die FDP vorgab, weiter nach Lösungen für die Koalitionsprobleme zu suchen, während sie intern den Bruch organisierte. Christ: \"Scheinheilig\" ist nicht mein Vokabular. Aber es stimmt: Die Partei muss sich jetzt ehrlich machen. Das Ziel war eindeutig, die Koalition zu beenden. Dafür gab es auch Argumente. Die Umfragewerte waren schlecht, man hat gemerkt, man kommt in dieser Koalition nicht mehr weiter. Aber wenn man aus einer Koalition rauswill, muss man das klar artikulieren. Man hätte der Öffentlichkeit das ganze Drama ersparen können. ZEIT ONLINE: Wie glaubwürdig finden Sie es denn, dass Lindner nun sagt, dass er das Papier nicht gekannt hat? Christ: Ich formuliere es mal so: Ich habe seine Aussagen zur Kenntnis genommen. ZEIT ONLINE: Wie sehr schadet diese mangelnde Glaubwürdigkeit der FDP? Christ: Für die Partei ist das eine dramatische Entwicklung. Die FDP hatte historisch gesehen schon immer ein Glaubwürdigkeitsproblem. Nach dem Jamaika-Aus hatte sie sich da wieder rausgearbeitet. Die Entwicklungen der vergangenen Tage haben das zunichtegemacht. Die FDP steckt wieder in der Glaubwürdigkeitsfalle. Ich bedaure das sehr, denn wir brauchen eine starke liberale Kraft im deutschen Parlament. ZEIT ONLINE: Christian Lindner sagt, dem politischen Gegner ginge es um die Zerstörung der FDP. Werden da nicht Ursache und Wirkung vertauscht? Christ: Das ist eine harte Zuspitzung, die der Ablenkung dient. Weder der SPD noch den Grünen geht es um die Zerstörung der FDP. Die FDP hat doch selbst wesentlich dazu beigetragen, dass sie jetzt in dieser Situation ist. Man muss schon bei der Realität bleiben. Ich glaube auch nicht, dass so eine Behauptung bei den Wählerinnen und Wählern verfängt. ZEIT ONLINE: Die FDP hat aber auch erste Konsequenzen gezogen. Der Generalsekretär und der Bundesgeschäftsführer sind zurückgetreten. Reicht das aus Ihrer Sicht? Christ:  Diese beiden Rücktritte waren eine harte Konsequenz, ich hätte das nicht gefordert. Und ich werde auch keine weiteren fordern. Ich wünsche mir, dass die Partei sich möglichst schnell wieder auf ihr inhaltliches Angebot konzentriert. Aber die Öffentlichkeit hat auch ein Recht darauf, zu erfahren, was passiert ist. Die Partei sollte die Affäre aufarbeiten und ihre Erkenntnisse dann auch offenlegen. ZEIT ONLINE: Kann die FDP mit Lindner an der Spitze überhaupt noch das Comeback schaffen? Christ: Ich sehe zurzeit keine Alternative zu Christian Lindner. Er ist ein begnadeter Wahlkämpfer mit unglaublichen rhetorischen Fähigkeiten. Ob seine Überzeugungskraft reicht, werden die Wählerinnen und Wähler entscheiden. Ich sehe keinen Grund, warum er zurücktreten sollte – wenn das, was er bis jetzt gesagt hat, wahr ist. ZEIT ONLINE: Muss die FDP auch inhaltlich etwas ändern? Christ: Die FDP hat sich in den vergangenen Jahren sehr stark auf die Themen Steuersenkungen und Schuldenbremse verengt. Bei schlechten Umfragewerten glauben Parteien oft, sie müssten ihren Markenkern herausstellen. Das ist aber eine Fehleinschätzung. Ich hätte der FDP geraten, mit einem breiteren Angebot zu werben. Sonst verliert man unnötig Wählergruppen, die man durchaus erreichen könnte. ZEIT ONLINE: Welche Themen wurden vernachlässigt? Christ: Als Freiheitspartei fehlt mir zum Beispiel eine große Kampagne gegen Rechtsextremisten und -populisten. Und die FDP sollte noch viel stärker auf das Thema Bildung als Schlüssel zum Aufstieg setzen. Es ist bedauerlich, dass man die Partei momentan nicht mehr mit Fortschritt, Innovation, Chancengerechtigkeit und Digitalisierung in Verbindung bringt, sondern aktuell nur mit der Schuldenbremse und dem Koalitionsbruch. ZEIT ONLINE: Als wir vor drei Jahren schon mal miteinander gesprochen haben, waren Sie gegen ein Ampelbündnis. Würden Sie heute sagen, Ihre Befürchtungen haben sich bestätigt? Christ: Das war kurz vor der Bundestagswahl. Damals habe ich nicht offen für die Ampel geworben, wir wollten ja Schwarz-Gelb. Es war aber klar, dass die Ampel eine Option sein würde. Das Bündnis ist dann mit einem guten Koalitionsvertrag gestartet. Und es war ja auch bei Weitem nicht alles falsch, was die Regierung gemacht hat. Sie hat uns durch eine Krise geführt, von der selbst Angela Merkel sagt, sie hätte in ihrer Regierungszeit nichts Vergleichbares erlebt. Aber nach dem russischen Angriffskrieg hätte man den Koalitionsvertrag neu verhandeln müssen. ZEIT ONLINE: Warum? Christ: Seit 2022 war klar, dass wir zum Beispiel mehr Geld für die Flüchtlinge aus der Ukraine brauchen, dass die 100 Milliarden Euro aus dem Sondervermögen für die Bundeswehr nicht lange reichen werden, dass wir eine Rieseninflation bekommen werden, die zu einem niedrigeren Wirtschaftswachstum und Herausforderungen bei den Steuereinnahmen führen wird. Die ökonomische Geschäftsgrundlage, auf der der Koalitionsvertrag 2021 verhandelt wurde, war so nicht mehr umsetzbar. Ich habe deswegen immer für eine Reform der Schuldenbremse geworben. Aber dazu war Christian Lindner nicht bereit. ZEIT ONLINE: Wenn eine Regierung bei solch zentralen Themen nicht zusammenkommt, macht es doch wenig Sinn, weiter zu regieren. Warum waren Sie dafür, dass die FDP dennoch in der Ampel bleibt? Christ: Ich habe empfohlen: Bringt den Haushalt zu Ende, einigt euch auf drei, vier Punkte, die für Deutschland enorm wichtig sind. Jetzt wird es bis Juni dauern, bis wir eine neue Regierung haben. Bis dahin wird nicht mehr viel entschieden werden, und einen Haushalt gibt es auch nicht. Die Wirtschaftswende fällt bis zur Sommerpause aus. Das ist doch keine Perspektive für unser Land. Und das kann doch für die FDP kein gutes Ergebnis sein.\n",
      "\n",
      "\n",
      "Article 2:\n",
      "Kurz vor der deutschen Grenze bei Aachen, noch auf belgischem Gebiet, hat die Bundespolizei zwei mutmaßlich geschleuste junge Männer aus einem mit Orangen beladenen Transporter befreit. Der belarussische Fahrer des polnischen Kühltransports habe an dem Übergang eine Streife angesprochen, teilte die Bundespolizei in Aachen mit. Er hatte Klopfgeräusche gehört. Die Streife der mobilen Kontroll- und Überwachungseinheit der Bundespolizei aus Sankt Augustin öffnete den Container und entdeckte auf hoch aufgetürmten Kisten zwei junge Männer. Da der Lastwagen noch in Belgien war, wurden die Männer aus der Türkei und aus Afghanistan aufgefordert, dort zum Ausländeramt zu gehen. Sie wollten offenbar eigentlich nach Deutschland. \n"
     ]
    }
   ],
   "source": [
    "import os\n",
    "import json\n",
    "from newsapi.newsapi_client import NewsApiClient\n",
    "import requests\n",
    "import re\n",
    "from datetime import datetime, timedelta, date\n",
    "from bs4 import BeautifulSoup\n",
    "import html\n",
    "\n",
    "\n",
    "class Newspaper:\n",
    "    def __init__(self, api_key:str):\n",
    "        self.client = NewsApiClient(api_key=api_key)\n",
    "        self.articles = None\n",
    "\n",
    "    @property\n",
    "    def amount_articles(self):\n",
    "        return len(self.articles)\n",
    "\n",
    "    def get_articles(self):\n",
    "        '''return and refresh the articles with the top headlines'''\n",
    "        response = client.get_top_headlines(language='de', sources='die-zeit')\n",
    "        if response['status'] == 'ok':\n",
    "            self.articles = response['articles']\n",
    "        return self.articles\n",
    "    \n",
    "\n",
    "    @staticmethod\n",
    "    def get_complete_article(url:str):\n",
    "        article_response = requests.get(url)\n",
    "        if article_response.status_code != 200:\n",
    "            print(f\"Failed to retrieve article. Status code: {article_response.status_code}\")\n",
    "            return\n",
    "        # print(article_response.text)\n",
    "        for line in article_response.text.split('\\n'):\n",
    "            linestart = \"\\\"articleBody\\\": \"\n",
    "            if line.strip().startswith(linestart):\n",
    "                line = line.strip(linestart).split(\"©\")[0]  # ignore dpa and other sources in string\n",
    "                return html.unescape(line)  # &#34; -> \"\n",
    "        return \"Entschuldigung, der Artikel konnte nicht gefunden werden.\"\n",
    "    \n",
    "\n",
    "# Example\n",
    "newsp = Newspaper('ee9ebbc8037b49a58370ee1446c8f8db')\n",
    "print(\"First 2 articles: \")\n",
    "print(json.dumps(newsp.get_articles()[:2], indent=2))\n",
    "print(\"Article 1:\")\n",
    "print(Newspaper.get_complete_article(newsp.articles[0]['url']))\n",
    "print(\"\\n\")\n",
    "print(\"Article 2:\")\n",
    "print(Newspaper.get_complete_article(newsp.articles[1]['url']))\n"
   ]
  }
 ],
 "metadata": {
  "kernelspec": {
   "display_name": "Python 3",
   "language": "python",
   "name": "python3"
  },
  "language_info": {
   "codemirror_mode": {
    "name": "ipython",
    "version": 3
   },
   "file_extension": ".py",
   "mimetype": "text/x-python",
   "name": "python",
   "nbconvert_exporter": "python",
   "pygments_lexer": "ipython3",
   "version": "3.12.2"
  }
 },
 "nbformat": 4,
 "nbformat_minor": 2
}
