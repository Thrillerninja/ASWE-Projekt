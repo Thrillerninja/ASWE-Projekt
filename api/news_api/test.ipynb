{
 "cells": [
  {
   "cell_type": "markdown",
   "metadata": {},
   "source": [
    "# TESTING"
   ]
  },
  {
   "cell_type": "code",
   "execution_count": null,
   "metadata": {},
   "outputs": [],
   "source": [
    "import os\n",
    "import json\n",
    "from newsapi.newsapi_client import NewsApiClient\n",
    "import requests\n",
    "import re\n",
    "from datetime import datetime, timedelta, date\n",
    "from bs4 import BeautifulSoup\n",
    "import html\n"
   ]
  },
  {
   "cell_type": "code",
   "execution_count": null,
   "metadata": {},
   "outputs": [],
   "source": [
    "client = NewsApiClient('ee9ebbc8037b49a58370ee1446c8f8db')\n",
    "response = client.get_top_headlines(language='de', sources='die-zeit')\n",
    "if response['status'] == 'ok':\n",
    "    articles = response['articles']\n",
    "\n",
    "    print(json.dumps(articles[0], indent=2))\n",
    "\n",
    "\n",
    "    article_url = articles[1]['url']\n",
    "    print(\"article_url:\", article_url)\n"
   ]
  },
  {
   "cell_type": "code",
   "execution_count": null,
   "metadata": {},
   "outputs": [],
   "source": [
    "# get the article from the url\n",
    "def get_complete_article(url:str):\n",
    "    article_response = requests.get(url)\n",
    "    if article_response.status_code != 200:\n",
    "        print(f\"Failed to retrieve article. Status code: {article_response.status_code}\")\n",
    "        return\n",
    "    # print(article_response.text)\n",
    "    for line in article_response.text.split('\\n'):\n",
    "        linestart = \"\\\"articleBody\\\": \"\n",
    "        if line.strip().startswith(linestart):\n",
    "            line = line.strip(linestart).split(\"©\")[0]  # ignore dpa and other sources in string\n",
    "            return html.unescape(line)  # &#34; -> \"\n",
    "    print(\"Content not found in article\")\n",
    "    return \n",
    "\n",
    "    \n",
    "print(\"Article 1:\")\n",
    "print(get_complete_article(\"https://www.zeit.de/news/2024-12/03/schuesse-in-berlin-gesundbrunnen-ein-mann-schwer-verletzt\"))\n",
    "print(\"\\n\")\n",
    "\n",
    "print(\"Article 2:\")\n",
    "print(get_complete_article(\"https://www.zeit.de/news/2024-12/03/sperren-beschaedigt-weihnachtmarkt-bleibt-geschlossen\"))"
   ]
  },
  {
   "cell_type": "markdown",
   "metadata": {},
   "source": [
    "# Klasse, die so eig übernommen werden kann"
   ]
  },
  {
   "cell_type": "code",
   "execution_count": null,
   "metadata": {},
   "outputs": [
    {
     "name": "stdout",
     "output_type": "stream",
     "text": [
      "First 2 articles: \n"
     ]
    },
    {
     "ename": "NameError",
     "evalue": "name 'client' is not defined",
     "output_type": "error",
     "traceback": [
      "\u001b[1;31m---------------------------------------------------------------------------\u001b[0m",
      "\u001b[1;31mNameError\u001b[0m                                 Traceback (most recent call last)",
      "Cell \u001b[1;32mIn[1], line 46\u001b[0m\n\u001b[0;32m     44\u001b[0m newsp \u001b[38;5;241m=\u001b[39m Newspaper(\u001b[38;5;124m'\u001b[39m\u001b[38;5;124mee9ebbc8037b49a58370ee1446c8f8db\u001b[39m\u001b[38;5;124m'\u001b[39m)\n\u001b[0;32m     45\u001b[0m \u001b[38;5;28mprint\u001b[39m(\u001b[38;5;124m\"\u001b[39m\u001b[38;5;124mFirst 2 articles: \u001b[39m\u001b[38;5;124m\"\u001b[39m)\n\u001b[1;32m---> 46\u001b[0m \u001b[38;5;28mprint\u001b[39m(json\u001b[38;5;241m.\u001b[39mdumps(\u001b[43mnewsp\u001b[49m\u001b[38;5;241;43m.\u001b[39;49m\u001b[43mget_articles\u001b[49m\u001b[43m(\u001b[49m\u001b[43m)\u001b[49m[:\u001b[38;5;241m2\u001b[39m], indent\u001b[38;5;241m=\u001b[39m\u001b[38;5;241m2\u001b[39m))\n\u001b[0;32m     47\u001b[0m \u001b[38;5;28mprint\u001b[39m(\u001b[38;5;124m\"\u001b[39m\u001b[38;5;124mArticle 1:\u001b[39m\u001b[38;5;124m\"\u001b[39m)\n\u001b[0;32m     48\u001b[0m \u001b[38;5;28mprint\u001b[39m(Newspaper\u001b[38;5;241m.\u001b[39mget_complete_article(newsp\u001b[38;5;241m.\u001b[39marticles[\u001b[38;5;241m0\u001b[39m][\u001b[38;5;124m'\u001b[39m\u001b[38;5;124murl\u001b[39m\u001b[38;5;124m'\u001b[39m]))\n",
      "Cell \u001b[1;32mIn[1], line 22\u001b[0m, in \u001b[0;36mNewspaper.get_articles\u001b[1;34m(self)\u001b[0m\n\u001b[0;32m     20\u001b[0m \u001b[38;5;28;01mdef\u001b[39;00m \u001b[38;5;21mget_articles\u001b[39m(\u001b[38;5;28mself\u001b[39m):\n\u001b[0;32m     21\u001b[0m \u001b[38;5;250m    \u001b[39m\u001b[38;5;124;03m'''return and refresh the articles with the top headlines'''\u001b[39;00m\n\u001b[1;32m---> 22\u001b[0m     response \u001b[38;5;241m=\u001b[39m \u001b[43mclient\u001b[49m\u001b[38;5;241m.\u001b[39mget_top_headlines(language\u001b[38;5;241m=\u001b[39m\u001b[38;5;124m'\u001b[39m\u001b[38;5;124mde\u001b[39m\u001b[38;5;124m'\u001b[39m, sources\u001b[38;5;241m=\u001b[39m\u001b[38;5;124m'\u001b[39m\u001b[38;5;124mdie-zeit\u001b[39m\u001b[38;5;124m'\u001b[39m)\n\u001b[0;32m     23\u001b[0m     \u001b[38;5;28;01mif\u001b[39;00m response[\u001b[38;5;124m'\u001b[39m\u001b[38;5;124mstatus\u001b[39m\u001b[38;5;124m'\u001b[39m] \u001b[38;5;241m==\u001b[39m \u001b[38;5;124m'\u001b[39m\u001b[38;5;124mok\u001b[39m\u001b[38;5;124m'\u001b[39m:\n\u001b[0;32m     24\u001b[0m         \u001b[38;5;28mself\u001b[39m\u001b[38;5;241m.\u001b[39marticles \u001b[38;5;241m=\u001b[39m response[\u001b[38;5;124m'\u001b[39m\u001b[38;5;124marticles\u001b[39m\u001b[38;5;124m'\u001b[39m]\n",
      "\u001b[1;31mNameError\u001b[0m: name 'client' is not defined"
     ]
    }
   ],
   "source": [
    "import os\n",
    "import json\n",
    "from newsapi.newsapi_client import NewsApiClient\n",
    "import requests\n",
    "import re\n",
    "from datetime import datetime, timedelta, date\n",
    "from bs4 import BeautifulSoup\n",
    "import html\n",
    "\n",
    "\n",
    "class Newspaper:\n",
    "    def __init__(self, api_key:str):\n",
    "        self.client = NewsApiClient(api_key=api_key)\n",
    "        self.articles = None\n",
    "\n",
    "    @property\n",
    "    def amount_articles(self):\n",
    "        return len(self.articles)\n",
    "\n",
    "    def get_articles(self):\n",
    "        '''return and refresh the articles with the top headlines'''\n",
    "        response = self.client.get_top_headlines(language='de', sources='die-zeit')\n",
    "        if response['status'] == 'ok':\n",
    "            self.articles = response['articles']\n",
    "        return self.articles\n",
    "    \n",
    "\n",
    "    @staticmethod\n",
    "    def get_complete_article(url:str):\n",
    "        article_response = requests.get(url)\n",
    "        if article_response.status_code != 200:\n",
    "            print(f\"Failed to retrieve article. Status code: {article_response.status_code}\")\n",
    "            return\n",
    "        # print(article_response.text)\n",
    "        for line in article_response.text.split('\\n'):\n",
    "            linestart = \"\\\"articleBody\\\": \"\n",
    "            if line.strip().startswith(linestart):\n",
    "                line = line.strip(linestart).split(\"©\")[0]  # ignore dpa and other sources in string\n",
    "                return html.unescape(line)  # &#34; -> \"\n",
    "        return \"Entschuldigung, der Artikel konnte nicht gefunden werden.\"\n",
    "    \n",
    "\n",
    "# Example\n",
    "newsp = Newspaper('ee9ebbc8037b49a58370ee1446c8f8db')\n",
    "print(\"First 2 articles: \")\n",
    "print(json.dumps(newsp.get_articles()[:2], indent=2))\n",
    "print(\"Article 1:\")\n",
    "print(Newspaper.get_complete_article(newsp.articles[0]['url']))\n",
    "print(\"\\n\")\n",
    "print(\"Article 2:\")\n",
    "print(Newspaper.get_complete_article(newsp.articles[1]['url']))\n"
   ]
  }
 ],
 "metadata": {
  "kernelspec": {
   "display_name": "Python 3",
   "language": "python",
   "name": "python3"
  },
  "language_info": {
   "codemirror_mode": {
    "name": "ipython",
    "version": 3
   },
   "file_extension": ".py",
   "mimetype": "text/x-python",
   "name": "python",
   "nbconvert_exporter": "python",
   "pygments_lexer": "ipython3",
   "version": "3.12.2"
  }
 },
 "nbformat": 4,
 "nbformat_minor": 2
}
