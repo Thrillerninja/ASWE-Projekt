{
 "cells": [
  {
   "cell_type": "markdown",
   "metadata": {},
   "source": [
    "# TESTING"
   ]
  },
  {
   "cell_type": "code",
   "execution_count": null,
   "metadata": {},
   "outputs": [],
   "source": [
    "import os\n",
    "import json\n",
    "from newsapi.newsapi_client import NewsApiClient\n",
    "import requests\n",
    "import re\n",
    "from datetime import datetime, timedelta, date\n",
    "from bs4 import BeautifulSoup\n",
    "import html\n"
   ]
  },
  {
   "cell_type": "code",
   "execution_count": null,
   "metadata": {},
   "outputs": [],
   "source": [
    "client = NewsApiClient('ee9ebbc8037b49a58370ee1446c8f8db')\n",
    "response = client.get_top_headlines(language='de', sources='die-zeit')\n",
    "if response['status'] == 'ok':\n",
    "    articles = response['articles']\n",
    "\n",
    "    print(json.dumps(articles[0], indent=2))\n",
    "\n",
    "\n",
    "    article_url = articles[1]['url']\n",
    "    print(\"article_url:\", article_url)\n"
   ]
  },
  {
   "cell_type": "code",
   "execution_count": null,
   "metadata": {},
   "outputs": [],
   "source": [
    "# get the article from the url\n",
    "def get_complete_article(url:str):\n",
    "    article_response = requests.get(url)\n",
    "    if article_response.status_code != 200:\n",
    "        print(f\"Failed to retrieve article. Status code: {article_response.status_code}\")\n",
    "        return\n",
    "    # print(article_response.text)\n",
    "    for line in article_response.text.split('\\n'):\n",
    "        linestart = \"\\\"articleBody\\\": \"\n",
    "        if line.strip().startswith(linestart):\n",
    "            line = line.strip(linestart).split(\"©\")[0]  # ignore dpa and other sources in string\n",
    "            return html.unescape(line)  # &#34; -> \"\n",
    "    print(\"Content not found in article\")\n",
    "    return \n",
    "\n",
    "    \n",
    "print(\"Article 1:\")\n",
    "print(get_complete_article(\"https://www.zeit.de/news/2024-12/03/schuesse-in-berlin-gesundbrunnen-ein-mann-schwer-verletzt\"))\n",
    "print(\"\\n\")\n",
    "\n",
    "print(\"Article 2:\")\n",
    "print(get_complete_article(\"https://www.zeit.de/news/2024-12/03/sperren-beschaedigt-weihnachtmarkt-bleibt-geschlossen\"))"
   ]
  },
  {
   "cell_type": "markdown",
   "metadata": {},
   "source": [
    "# Klasse, die so eig übernommen werden kann"
   ]
  },
  {
   "cell_type": "code",
   "execution_count": null,
   "metadata": {},
   "outputs": [
    {
     "name": "stdout",
     "output_type": "stream",
     "text": [
      "First 2 articles: \n",
      "[\n",
      "  {\n",
      "    \"title\": \"Kriminalit\\u00e4t: Mann nach Schusswechsel in Kiel festgenommen\",\n",
      "    \"url\": \"https://www.zeit.de/news/2024-12/03/ein-mann-nach-schusswechsel-in-kiel-festgenommen\"\n",
      "  },\n",
      "  {\n",
      "    \"title\": \"S\\u00fcdkorea: Was es mit dem Kriegsrecht in S\\u00fcdkorea auf sich hat\",\n",
      "    \"url\": \"https://www.zeit.de/politik/2024-12/suedkorea-kriegsrecht-opposition-konflikt-nordkorea-faq\"\n",
      "  }\n",
      "]\n",
      "Article 1:\n",
      "In Kiel ist ein 38-Jähriger bei einem Schusswechsel mit der Polizei schwer verletzt worden. Der Mann habe im Stadtteil Ellerbek am Mittag auf Polizeikräfte geschossen, weshalb auch die Beamten ihre Schusswaffen zogen und schossen, wie die Polizei und die Staatsanwaltschaft in Kiel mitteilten. Der Mann wurde getroffen und schwer verletzt ins Krankenhaus gebracht. Dort wird der vorläufig festgenommene Mann nun von Beamten bewacht. Sollte sein Gesundheitszustand es zulassen, werde er spätestens am Mittwoch einem Haftrichter vorgeführt. Die Polizei war zuvor angerufen worden, weil ein Mann in einem psychischen Ausnahmezustand mit dem Auto unterwegs sei. Sie fanden den Autofahrer im Bereich Mönkeberg und versuchten zunächst erfolglos, ihn anzuhalten. Erst in einer Sackgasse in Ellerbek endete die mehrere Kilometer lange Verfolgungsjagd, an der mehrere Streifenwagen beteiligt waren. Dort soll der Mann den Angaben zufolge schließlich aus dem Auto heraus und nach dem Verlassen des Wagens mehrfach auf die Beamten geschossen haben. Diese feuerten zurück, um den Mann handlungsunfähig zu machen. Körperlich seien die Einsatzkräfte unverletzt geblieben, sagte eine Polizeisprecherin. Zu den Hintergründen der Tat gab es aufgrund der laufenden Ermittlungen zunächst keine Auskünfte. Auch am Abend wurden am Tatort weiter Spuren gesichert. \n",
      "\n",
      "\n",
      "Article 2:\n",
      "Seine Partei streitet sich mit der Opposition über den Staatshaushalt, dann verhängt er das Kriegsrecht und hebt es nach heftigen Protesten nur wenige Stunden später wieder auf: Der südkoreanische Präsident Yoon Suk Yeol begründete den drastischen Schritt mit dem Schutz vor staatsfeindlichen Kräften. Doch es macht den Anschein, dass er auch Yoons eigenem Machterhalt dienen sollte. Was genau hat er gesagt? Und was hat das mit Nordkorea zu tun? Antworten auf die wichtigsten Fragen: Was wirft Yoon Suk Yeol der Opposition in Südkorea vor? Der südkoreanische Staatschef Yoon hat im Fernsehsender YTN eine vorher nicht angekündigte Ansprache gehalten. Darin warf er den Oppositionsparteien vor, mit Nordkorea zu sympathisieren und die Regierung durch staatsfeindliche Aktivitäten zu lähmen. Yoon sagte, er erkläre das Kriegsrecht in Südkorea, um das Land \"vor der Bedrohung durch nordkoreanische kommunistische Kräfte zu schützen und die verabscheuungswürdigen pronordkoreanischen antistaatlichen Kräfte auszurotten\". Er habe keine andere Wahl, als zu dieser Maßnahme zu greifen, um die freie und verfassungsmäßige Ordnung zu schützen. Das Parlament sei \"ein Zufluchtsort für Kriminelle geworden, ein Hort für eine legislative Diktatur, die das juristische und administrative System lähmen und unsere liberale demokratische Ordnung stürzen will\", sagte Yoon weiter – und warf der Opposition vor, Gelder für die Kernaufgaben des Staates wie etwa die Bekämpfung der Drogenkriminalität und die Aufrechterhaltung der öffentlichen Ordnung zusammenzustreichen und damit einen \"Zustand des Chaos bei der öffentlichen Sicherheit\" zu schaffen. In der Vergangenheit hatte Yoon dem Parlament – in dem die Opposition eine Mehrheit hat – vorgeworfen, durch Anträge zur Amtsenthebung von Ministern und weiteren hochrangigen Amtsträgern die Regierungsgeschäfte unterlaufen zu haben. Seit dem Antritt der Regierung im Mai 2022 habe die Nationalversammlung 22 Amtsenthebungsanträge gestellt. Das sei weltweit ohne Beispiel. Was passierte nach Yoons Kriegsrechtsankündigung? Zunächst war nicht klar, zu welchem Zweck Yoon das Kriegsrecht verhängt hat. In seiner Ansprache hatte er gesagt, er werde das Land \"zur Normalität zurückführen\", indem er es \"so schnell wie möglich von antistaatlichen Kräften befreie\". Konkrete nächste Schritte hatte er zunächst nicht angekündigt. Yoon sprach in seiner TV-Rede auch nicht von konkreten Drohungen durch das Nachbarland Nordkorea. Kurz nachdem Yoon das Kriegsrecht ausgerufen hatte, wurde laut der Nachrichtenagentur Yonhap das Parlament in der Hauptstadt Seoul abgeriegelt. In Fernsehaufnahmen war zu sehen, wie Hubschrauber auf dem Dach des Gebäudes landeten. Der südkoreanische Befehlshaber des Kriegsrechtskommandos, Park An Su, teilte mit, alle politischen Aktivitäten seien nun untersagt und alle Medien würden von der Regierung überwacht: \"Alle politischen Aktivitäten, einschließlich derjenigen der Nationalversammlung, der Gemeinderäte, der politischen Parteien und politischen Vereinigungen sowie Versammlungen und Demonstrationen sind strengstens verboten\", sagte er. Alle Medien und Publikationen würden der Kontrolle des Kriegsrechtskommandos unterliegen. Die Nationalversammlung forderte den Präsidenten allerdings nur Stunden später auf, den Ausnahmezustand wieder aufzuheben. Alle 190 anwesenden Abgeordneten stimmten für den Antrag. Später kündigte Präsident Yoon an, das Kriegsrecht wieder aufzuheben. Yoon sagte in einem TV-Auftritt, dass sich das Militär zurückgezogen habe und das Kabinett bald tagen werde. \"Wir werden der Bitte der Nationalversammlung nachkommen und das Kriegsrecht in einer Kabinettssitzung aufheben\", sagte Yoon. Die vor dem Parlament versammelten Demonstranten begrüßten die Ankündigung Yoons mit großem Jubel. Das Kabinett stimmte der Aufhebung des Kriegsrechts kurz darauf zu, wie die südkoreanische Nachrichtenagentur Yonhap berichtete. Später waren vor dem Gebäude keine Soldaten mehr zu sehen, sondern Bereitschaftspolizisten, wie ein Reporter der Nachrichtenagentur dpa berichtete. Rund um das Parlamentsgebäude gab es in der Nacht Demonstrationen, aber es blieb friedlich. Wie reagierte die Opposition? Die Opposition, angeführt von der liberalen Demokratischen Partei, kritisierte Yoons Schritt als illegal und verfassungswidrig. Oppositionsführer Lee, der bei der Präsidentschaftswahl im Jahr 2022 knapp gegen Yoon verloren hatte, forderte die Bürger zunächst auf, sich ihm im Kampf gegen das Kriegsrecht anzuschließen. Doch auch der Chef von Yoons konservativer People Power Party (PPP), Han Dong Hoon, erklärte den Entschluss des Präsidenten für \"falsch\" und kündigte an, dass er den Vorgang blockieren wolle. Kurz nach Yoons Rede rief Parlamentspräsident Woo Won Shik die Abgeordneten über seinen YouTube-Kanal dazu auf, zur Nationalversammlung zu kommen. Tatsächlich forderte das Parlament, in dem die Opposition die Mehrheit hat, den Präsidenten wenig später einstimmig auf, den Ausnahmezustand wieder aufzuheben. Alle 190 anwesenden Abgeordneten stimmten für den Antrag. Die südkoreanische Verfassung sieht vor, dass das Kriegsrecht aufgehoben wird, wenn eine Mehrheit im Parlament dies verlangt. Parlamentspräsident Woo sagte, das Kriegsrecht habe keine Gültigkeit und die Abgeordneten würden die Demokratie zusammen mit dem Volk schützen. Polizei und Militär verließen das Parlamentsgebäude, nachdem Woo sie zum Rückzug aufgefordert hatte. Wie geht es für den Präsidenten weiter? Nach Aufhebung des Kriegsrechts steht Yoon unter großem innenpolitischen Druck. Die größte Oppositionspartei DP forderte den Präsidenten zum sofortigen Rücktritt auf. Sollte Yoon nicht von sich aus zurücktreten, werde man unverzüglich ein Amtsenthebungsverfahren gegen den Präsidenten einleiten. Dies kündigte die Oppositionspartei laut Medienberichten bei einer Dringlichkeitssitzung in der Nationalversammlung an. Die Ausrufung des Kriegsrechts sei \"ein klarer Verstoß gegen die Verfassung\" gewesen. Park Chan Dae, führender DP-Abgeordneter, hatte Yoon schon vor der Aufhebung des Kriegsrechts zum Rücktritt aufgefordert. \"Selbst wenn das Kriegsrecht aufgehoben wird, lässt sich eine Anklage wegen Aufruhrs nicht verhindern\", sagte Park. Han Dong Hoon von der konservativen Regierungspartei sagte im koreanischen Fernsehen, Yoon müsse \"diese tragische Situation direkt und gründlich erklären\". Alle Verantwortlichen müssten \"streng zur Rechenschaft gezogen werden\". Der wichtigste Gewerkschaftsverband des Landes rief zu einem \"unbefristeten Generalstreik\" bis zum Rücktritt von Präsident Yoon auf. Yoon habe \"das Ende (seiner) eigenen Macht erklärt\", teilte die 1,2 Millionen Mitglieder zählende KFTU-Gewerkschaft mit. Sie warf dem Präsidenten eine \"irrationale und antidemokratische Maßnahme\" vor. Worum ging es im Haushaltsstreit zuvor? Yoon verkündete das Kriegsrecht inmitten eines Streits seiner konservativen PPP mit der DP über das Haushaltsgesetz für das kommende Jahr. Die Abgeordneten der Opposition hatten in der vergangenen Woche nur eine deutlich abgespeckte Fassung des Haushaltsentwurfs im zuständigen Parlamentsausschuss gebilligt. Der Rechtspopulist Yoon, der im Frühjahr 2022 mit einem hauchdünnen Wahlsieg Präsident wurde, steht seit Monaten innenpolitisch unter Druck. Zuletzt hat ein mutmaßlicher Korruptionsskandal rund um seine Ehefrau seine Beliebtheitswerte weiter gedrückt. Zudem tut er sich seit seinem Amtsantritt im Jahr 2022 schwer, seine Agenda gegen das Parlament durchzusetzen, das von der Opposition kontrolliert wird. In seinem Wahlkampf hatte Yoon, der zuvor Generalstaatsanwalt gewesen war, angekündigt, seinen damaligen demokratischen Mitstreiter ums Präsidentenamt, Lee Jae Myung, strafrechtlich verfolgen zu lassen, und dies später auch versucht. \"Solche Ermittlungen sind politisch motiviert gewesen, weil sie selektiv sind\", hatte Shim In Bo vom für seine kritische Berichterstattung bekannten Sender Newstapa dazu gesagt. Auch gegen kritische Medienhäuser geht Yoon mit Einschüchterungstaktik vor. Ihm nahestehende Personen hat Yoon dagegen vor Strafverfolgung geschützt, unter anderem seine Ehefrau, der Geschenkannahme vorgeworfen worden ist. Im Land wird Yoon auch \"Südkoreas Trump\" genannt, vor allem, weil er die Demokratie missachte. Was bedeutet eine Verhängung des Kriegsrechts? Laut der Verfassung kann der südkoreanische Präsident in \"Kriegszeiten, kriegsähnlichen Situationen oder anderen vergleichbaren nationalen Notlagen\", die den Einsatz militärischer Gewalt zur Aufrechterhaltung von Ruhe und Ordnung erfordern, das Kriegsrecht ausrufen. Es gilt als fraglich, ob sich Südkorea derzeit in einem solchen Zustand befindet. Wenn in Südkorea, wie nun kurzzeitig geschehen, das Kriegsrecht ausgerufen wird, werden wesentliche Befugnisse auf das Militär übertragen. Dies betrifft die Gerichtsbarkeit, die Einschränkung von Grundrechten wie Presse-, Meinungs- und Versammlungsfreiheit und einen ausgeweiteten Einsatz des Militärs. Das Parlament ließ Yoon wohl abriegeln, um Versuche der Abgeordneten, gegen die Verhängung des Kriegsrechts vorzugehen, zu unterbinden, letztlich ohne Erfolg. Laut der südkoreanischen Verfassung muss das Kriegsrecht aufgehoben werden, wenn eine Mehrheit im Parlament dies verlangt. Wie ist das Verhältnis zwischen Südkorea und Nordkorea? Hinweise auf eine Verwicklung des verfeindeten Nachbarlands Nordkorea in die Situation gab es nicht. Zugleich ist die Lage auf der Koreanischen Halbinsel so angespannt wie seit Jahrzehnten nicht. Nordkorea baute in den vergangenen zwei Jahren seine Raketentests deutlich aus und verschärfte seine Rhetorik gegen die USA und Südkorea. Formal im Kriegsrecht befindet sich Südkorea bereits seit 1950, als der dreijährige Koreakrieg mit dem verfeindeten Einparteienstaat Nordkorea ausbrach, in dem Millionen Menschen starben. Dieser erste Stellvertreterkonflikt des Kalten Kriegs – an der Seite Südkoreas kämpften von den USA angeführte UN-Truppen, Nordkorea wurde von China und der Sowjetunion unterstützt – mündete nur in einen Waffenstillstand. Seither hat es zwischen Nord- und Südkorea immer wieder Phasen der Annäherung gegeben, zuletzt um das Jahr 2018. Als dann der damalige US-Präsident Donald Trump in Verhandlungen mit Nordkoreas Diktator Kim Jong Un keine Ergebnisse erzielen konnte, was eine mögliche nukleare Abrüstung Nordkoreas anging, froren die Beziehungen wieder ein. Mit dem neuerlichen Angriff Russlands auf die Ukraine seit Februar 2022 verschärften sich auch die Auseinandersetzungen auf der koreanischen Halbinsel erneut . Nordkoreas Diktator Kim Jong Un näherte sich diplomatisch zu Russlands Präsident Wladimir Putin an, da nun auch Russland durch harte internationale Sanktionen getroffen war. Seither haben die zwei Staaten einen Verteidigungspakt, Nordkorea unterstützt den Krieg in der Ukraine auf der Seite Russlands . Zuletzt schickte Nordkorea Tausende Soldaten nach Russland, die unter anderem bei der Rückeroberung der Region Kursk im Einsatz sind. Südkorea wiederum unterstützt die Ukraine, bisher allerdings nur auf humanitäre Weise. Yoon hat zuletzt aber laut darüber nachgedacht, auch Waffen in die Ukraine zu schicken, woraufhin Putin damit drohte, Nordkorea aufzurüsten. Zudem hat Nordkoreas Diktator Kim vor Kurzem Nordkoreas Verfassung dahingehend ändern lassen, dass Südkorea darin als \"feindseliger Staat\" bezeichnet wird. Seinem Militär gegenüber hat Kim erklärt, man müsse sich auf einen Krieg vorbereiten. In Südkorea wiederum macht die liberale Opposition auch die konfrontative Politik von Yoon Suk Yeol dafür verantwortlich, dass die Bedrohungslage ernster geworden ist. Denn auch Yoon hat dem Norden mit Krieg gedroht. Die Idee einer Unterstützung der Ukraine mit Waffen ist zudem unpopulär im Land. \"Dies liegt einfach daran, dass man sich aus dem Konflikt heraushalten will\", sagt Moon Chung In, Professor an der Yonsei-Universität und ehemaliger Berater des liberalen Ex-Präsidenten Moon Jae In. \"Dies hat nichts damit zu tun, dass irgendwer an der Seite Nordkoreas stehen würde.\" Dies allerdings insinuiert Präsident Yoon Suk Yeol, wenn er sagt, er müsse pronordkoreanische Kräfte auslöschen. Wie reagiert das Ausland? International hatte der Schritt zur zwischenzeitlichen Verhängung des Kriegsrechts Besorgnis ausgelöst. Die US-Regierung zeigte sich ebenso wie Russland und Deutschland besorgt über die Entwicklungen in Südkorea. Die USA, ein wichtiger Verbündeter Südkoreas, forderten eine Lösung, die der \"Rechtsstaatlichkeit\" folgt. \"Ich möchte betonen, dass unser Bündnis mit der Republik Korea in Stein gemeißelt ist und wir Korea in dieser Zeit der Unsicherheit zur Seite stehen\", sagte US-Vizeaußenminister Kurt Campbell, der den offiziellen Staatsnamen Südkoreas verwendete. Ein Sprecher des Nationalen Sicherheitsrates sagte, die Regierung von Präsident Joe Biden sei nicht vorab über die Verhängung des Kriegsrechts informiert worden und stehe in Kontakt mit der südkoreanischen Regierung. US-Außenminister Antony Blinken begrüßte später die Entscheidung Yoons zur Aufhebung des Kriegsrechts. \"Wir erwarten weiterhin, dass politische Meinungsverschiedenheiten friedlich und im Einklang mit der Rechtsstaatlichkeit gelöst werden\", sagte Blinken. Ein UN-Sprecher teilte mit, die Vereinten Nationen würden die Entwicklungen in Südkorea \"sehr genau und mit Sorge\" beobachten. Ähnlich äußerte sich das Auswärtige Amt und forderte: \"Die Demokratie muss sich durchsetzen.\" Die deutsche Botschaft in Seoul sah allerdings keine unmittelbare Gefahr für Ausländer. \"Es lässt sich nach jetzigem Stand noch nicht absehen, mit welchen Einschränkungen diese Entscheidung für ausländische Staatsangehörige in der Republik Korea verbunden ist. Unserer Einschätzung nach besteht keine unmittelbare Gefahr für die persönliche Sicherheit und das Eigentum ausländischer Staatsangehöriger\", schrieb die Botschaft in einer Mitteilung an in Südkorea lebende Deutsche. Insbesondere gebe es keine Anzeichen für eine militärische Auseinandersetzung mit Nordkorea. Mit Material der Nachrichtenagenturen AFP, dpa und Reuters\n"
     ]
    }
   ],
   "source": [
    "import json\n",
    "from newsapi.newsapi_client import NewsApiClient\n",
    "import requests\n",
    "import html\n",
    "\n",
    "\n",
    "class Newspaper:\n",
    "    def __init__(self, api_key:str):\n",
    "        self.client = NewsApiClient(api_key=api_key)\n",
    "        self.articles = None\n",
    "\n",
    "    @property\n",
    "    def amount_articles(self):\n",
    "        return len(self.articles)\n",
    "\n",
    "    def get_articles(self):\n",
    "        '''return and refresh the articles with the top headlines'''\n",
    "        response = self.client.get_top_headlines(language='de', sources='die-zeit')\n",
    "        if response['status'] == 'ok':\n",
    "            self.articles = response['articles']\n",
    "            for article in self.articles:\n",
    "                article['title'] = html.unescape(article['title'])\n",
    "                del article['content']\n",
    "                del article['urlToImage']\n",
    "                del article['publishedAt']\n",
    "                del article['source']\n",
    "                del article['description']\n",
    "                del article['author']\n",
    "        return self.articles\n",
    "    \n",
    "\n",
    "    @staticmethod\n",
    "    def get_complete_article(url:str):\n",
    "        article_response = requests.get(url)\n",
    "        if article_response.status_code != 200:\n",
    "            print(f\"Failed to retrieve article. Status code: {article_response.status_code}\")\n",
    "            return\n",
    "        # print(article_response.text)\n",
    "        for line in article_response.text.split('\\n'):\n",
    "            linestart = \"\\\"articleBody\\\": \"\n",
    "            if line.strip().startswith(linestart):\n",
    "                line = line.strip(linestart).split(\"©\")[0]  # ignore dpa and other sources in string\n",
    "                return html.unescape(line)  # &#34; -> \"\n",
    "        return \"Entschuldigung, der Artikel konnte nicht gefunden werden.\"\n",
    "    \n",
    "\n",
    "# Example\n",
    "newsp = Newspaper('ee9ebbc8037b49a58370ee1446c8f8db')\n",
    "print(\"First 2 articles: \")\n",
    "print(json.dumps(newsp.get_articles()[:2], indent=2))\n",
    "print(\"Article 1:\")\n",
    "print(Newspaper.get_complete_article(newsp.articles[0]['url']))\n",
    "print(\"\\n\")\n",
    "print(\"Article 2:\")\n",
    "print(Newspaper.get_complete_article(newsp.articles[1]['url']))\n"
   ]
  }
 ],
 "metadata": {
  "kernelspec": {
   "display_name": "Python 3",
   "language": "python",
   "name": "python3"
  },
  "language_info": {
   "codemirror_mode": {
    "name": "ipython",
    "version": 3
   },
   "file_extension": ".py",
   "mimetype": "text/x-python",
   "name": "python",
   "nbconvert_exporter": "python",
   "pygments_lexer": "ipython3",
   "version": "3.12.2"
  }
 },
 "nbformat": 4,
 "nbformat_minor": 2
}
